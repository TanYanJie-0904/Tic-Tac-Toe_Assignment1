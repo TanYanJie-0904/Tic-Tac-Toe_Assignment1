{
 "cells": [
  {
   "cell_type": "code",
   "execution_count": 1,
   "id": "2ef8f710-e4d1-4aee-ad08-691e1c02ddae",
   "metadata": {},
   "outputs": [
    {
     "name": "stdout",
     "output_type": "stream",
     "text": [
      "Players can choose 'x' or 'o'\n",
      "Please select which Player starts first.\n"
     ]
    },
    {
     "name": "stdin",
     "output_type": "stream",
     "text": [
      " x\n"
     ]
    },
    {
     "name": "stdout",
     "output_type": "stream",
     "text": [
      "OK, x you first!\n",
      "\n",
      "1:Top-Left\n",
      "2:Top-Center\n",
      "3:Top-Right\n",
      "4:Middle-Left\n",
      "5:Middle-Center\n",
      "6:Middle-Right\n",
      "7:Bottom-Left\n",
      "8:Bottom-Center\n",
      "9:Bottom-Right\n",
      "\n",
      "\n",
      "  Top-Left  |   Top-Center  |   Top-Right \n",
      "- - - - - - + - - - - - - - + - - - - - -\n",
      "Middle-Left | Middle-Center | Middle-Right\n",
      "- - - - - - + - - - - - - - + - - - - - -\n",
      "Bottom-Left | Bottom-Center | Bottom-Right\n",
      "\n",
      "\n",
      "Player x's turn.\n"
     ]
    },
    {
     "name": "stdin",
     "output_type": "stream",
     "text": [
      "Which place you want to put. 1\n"
     ]
    },
    {
     "name": "stdout",
     "output_type": "stream",
     "text": [
      "x |   |  \n",
      "- + - + -\n",
      "  |   |  \n",
      "- + - + -\n",
      "  |   |  \n",
      "\n",
      "\n",
      "Player o's turn.\n"
     ]
    },
    {
     "name": "stdin",
     "output_type": "stream",
     "text": [
      "Which place you want to put. 1\n"
     ]
    },
    {
     "name": "stdout",
     "output_type": "stream",
     "text": [
      "Invalid input or place already taken. Please select again.\n",
      "\n",
      "Player o's turn.\n"
     ]
    },
    {
     "name": "stdin",
     "output_type": "stream",
     "text": [
      "Which place you want to put. 2\n"
     ]
    },
    {
     "name": "stdout",
     "output_type": "stream",
     "text": [
      "x | o |  \n",
      "- + - + -\n",
      "  |   |  \n",
      "- + - + -\n",
      "  |   |  \n",
      "\n",
      "\n",
      "Player x's turn.\n"
     ]
    },
    {
     "name": "stdin",
     "output_type": "stream",
     "text": [
      "Which place you want to put. 2\n"
     ]
    },
    {
     "name": "stdout",
     "output_type": "stream",
     "text": [
      "Invalid input or place already taken. Please select again.\n",
      "\n",
      "Player x's turn.\n"
     ]
    },
    {
     "name": "stdin",
     "output_type": "stream",
     "text": [
      "Which place you want to put. 3\n"
     ]
    },
    {
     "name": "stdout",
     "output_type": "stream",
     "text": [
      "x | o | x\n",
      "- + - + -\n",
      "  |   |  \n",
      "- + - + -\n",
      "  |   |  \n",
      "\n",
      "\n",
      "Player o's turn.\n"
     ]
    },
    {
     "name": "stdin",
     "output_type": "stream",
     "text": [
      "Which place you want to put. 5\n"
     ]
    },
    {
     "name": "stdout",
     "output_type": "stream",
     "text": [
      "x | o | x\n",
      "- + - + -\n",
      "  | o |  \n",
      "- + - + -\n",
      "  |   |  \n",
      "\n",
      "\n",
      "Player x's turn.\n"
     ]
    },
    {
     "name": "stdin",
     "output_type": "stream",
     "text": [
      "Which place you want to put. 6\n"
     ]
    },
    {
     "name": "stdout",
     "output_type": "stream",
     "text": [
      "x | o | x\n",
      "- + - + -\n",
      "  | o | x\n",
      "- + - + -\n",
      "  |   |  \n",
      "\n",
      "\n",
      "Player o's turn.\n"
     ]
    },
    {
     "name": "stdin",
     "output_type": "stream",
     "text": [
      "Which place you want to put. 8\n"
     ]
    },
    {
     "name": "stdout",
     "output_type": "stream",
     "text": [
      "x | o | x\n",
      "- + - + -\n",
      "  | o | x\n",
      "- + - + -\n",
      "  | o |  \n",
      "\n",
      "\n",
      "Congratulations! Player o wins!\n"
     ]
    }
   ],
   "source": [
    "from tic_tac_toe import TicTacToe\n",
    "\n",
    "# Create an instance of the TicTacToe class\n",
    "game = TicTacToe()\n",
    "\n",
    "# Start the game\n",
    "game.play_game()"
   ]
  },
  {
   "cell_type": "code",
   "execution_count": null,
   "id": "cfc6faa6-4188-4d8d-9fb9-cfbb2a9399d5",
   "metadata": {},
   "outputs": [],
   "source": []
  }
 ],
 "metadata": {
  "kernelspec": {
   "display_name": "Python 3 (ipykernel)",
   "language": "python",
   "name": "python3"
  },
  "language_info": {
   "codemirror_mode": {
    "name": "ipython",
    "version": 3
   },
   "file_extension": ".py",
   "mimetype": "text/x-python",
   "name": "python",
   "nbconvert_exporter": "python",
   "pygments_lexer": "ipython3",
   "version": "3.11.7"
  }
 },
 "nbformat": 4,
 "nbformat_minor": 5
}
